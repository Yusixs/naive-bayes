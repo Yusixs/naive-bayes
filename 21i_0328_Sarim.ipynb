{
  "cells": [
    {
      "cell_type": "code",
      "execution_count": null,
      "id": "f3e1ea96",
      "metadata": {
        "id": "f3e1ea96"
      },
      "outputs": [],
      "source": [
        "import pandas as pd\n",
        "from sklearn.metrics import confusion_matrix, ConfusionMatrixDisplay\n",
        "from sklearn.metrics import classification_report\n",
        "from sklearn.metrics import accuracy_score\n",
        "import matplotlib.pyplot as plt\n",
        "\n",
        "df = pd.read_csv(r\"C:\\Users\\hoxto\\Desktop\\PlayTennis.csv\")\n"
      ]
    },
    {
      "cell_type": "code",
      "execution_count": null,
      "id": "c7922558",
      "metadata": {
        "id": "c7922558",
        "outputId": "aeb1ad3f-9050-4d71-9d89-6ff68223dcfb"
      },
      "outputs": [
        {
          "data": {
            "text/html": [
              "<div>\n",
              "<style scoped>\n",
              "    .dataframe tbody tr th:only-of-type {\n",
              "        vertical-align: middle;\n",
              "    }\n",
              "\n",
              "    .dataframe tbody tr th {\n",
              "        vertical-align: top;\n",
              "    }\n",
              "\n",
              "    .dataframe thead th {\n",
              "        text-align: right;\n",
              "    }\n",
              "</style>\n",
              "<table border=\"1\" class=\"dataframe\">\n",
              "  <thead>\n",
              "    <tr style=\"text-align: right;\">\n",
              "      <th></th>\n",
              "      <th>Outlook</th>\n",
              "      <th>Temperature</th>\n",
              "      <th>Humidity</th>\n",
              "      <th>Wind</th>\n",
              "      <th>Play Tennis</th>\n",
              "    </tr>\n",
              "  </thead>\n",
              "  <tbody>\n",
              "    <tr>\n",
              "      <th>0</th>\n",
              "      <td>Sunny</td>\n",
              "      <td>Hot</td>\n",
              "      <td>High</td>\n",
              "      <td>Weak</td>\n",
              "      <td>No</td>\n",
              "    </tr>\n",
              "    <tr>\n",
              "      <th>1</th>\n",
              "      <td>Sunny</td>\n",
              "      <td>Hot</td>\n",
              "      <td>High</td>\n",
              "      <td>Strong</td>\n",
              "      <td>No</td>\n",
              "    </tr>\n",
              "    <tr>\n",
              "      <th>2</th>\n",
              "      <td>Overcast</td>\n",
              "      <td>Hot</td>\n",
              "      <td>High</td>\n",
              "      <td>Weak</td>\n",
              "      <td>Yes</td>\n",
              "    </tr>\n",
              "    <tr>\n",
              "      <th>3</th>\n",
              "      <td>Rain</td>\n",
              "      <td>Mild</td>\n",
              "      <td>High</td>\n",
              "      <td>Weak</td>\n",
              "      <td>Yes</td>\n",
              "    </tr>\n",
              "    <tr>\n",
              "      <th>4</th>\n",
              "      <td>Rain</td>\n",
              "      <td>Cool</td>\n",
              "      <td>Normal</td>\n",
              "      <td>Weak</td>\n",
              "      <td>Yes</td>\n",
              "    </tr>\n",
              "    <tr>\n",
              "      <th>5</th>\n",
              "      <td>Rain</td>\n",
              "      <td>Cool</td>\n",
              "      <td>Normal</td>\n",
              "      <td>Strong</td>\n",
              "      <td>No</td>\n",
              "    </tr>\n",
              "    <tr>\n",
              "      <th>6</th>\n",
              "      <td>Overcast</td>\n",
              "      <td>Cool</td>\n",
              "      <td>Normal</td>\n",
              "      <td>Strong</td>\n",
              "      <td>Yes</td>\n",
              "    </tr>\n",
              "    <tr>\n",
              "      <th>7</th>\n",
              "      <td>Sunny</td>\n",
              "      <td>Mild</td>\n",
              "      <td>High</td>\n",
              "      <td>Weak</td>\n",
              "      <td>No</td>\n",
              "    </tr>\n",
              "    <tr>\n",
              "      <th>8</th>\n",
              "      <td>Sunny</td>\n",
              "      <td>Cool</td>\n",
              "      <td>Normal</td>\n",
              "      <td>Weak</td>\n",
              "      <td>Yes</td>\n",
              "    </tr>\n",
              "    <tr>\n",
              "      <th>9</th>\n",
              "      <td>Rain</td>\n",
              "      <td>Mild</td>\n",
              "      <td>Normal</td>\n",
              "      <td>Weak</td>\n",
              "      <td>Yes</td>\n",
              "    </tr>\n",
              "    <tr>\n",
              "      <th>10</th>\n",
              "      <td>Sunny</td>\n",
              "      <td>Mild</td>\n",
              "      <td>Normal</td>\n",
              "      <td>Strong</td>\n",
              "      <td>Yes</td>\n",
              "    </tr>\n",
              "    <tr>\n",
              "      <th>11</th>\n",
              "      <td>Overcast</td>\n",
              "      <td>Mild</td>\n",
              "      <td>High</td>\n",
              "      <td>Strong</td>\n",
              "      <td>Yes</td>\n",
              "    </tr>\n",
              "    <tr>\n",
              "      <th>12</th>\n",
              "      <td>Overcast</td>\n",
              "      <td>Hot</td>\n",
              "      <td>Normal</td>\n",
              "      <td>Weak</td>\n",
              "      <td>Yes</td>\n",
              "    </tr>\n",
              "    <tr>\n",
              "      <th>13</th>\n",
              "      <td>Rain</td>\n",
              "      <td>Mild</td>\n",
              "      <td>High</td>\n",
              "      <td>Strong</td>\n",
              "      <td>No</td>\n",
              "    </tr>\n",
              "  </tbody>\n",
              "</table>\n",
              "</div>"
            ],
            "text/plain": [
              "     Outlook Temperature Humidity    Wind Play Tennis\n",
              "0      Sunny         Hot     High    Weak          No\n",
              "1      Sunny         Hot     High  Strong          No\n",
              "2   Overcast         Hot     High    Weak         Yes\n",
              "3       Rain        Mild     High    Weak         Yes\n",
              "4       Rain        Cool   Normal    Weak         Yes\n",
              "5       Rain        Cool   Normal  Strong          No\n",
              "6   Overcast        Cool   Normal  Strong         Yes\n",
              "7      Sunny        Mild     High    Weak          No\n",
              "8      Sunny        Cool   Normal    Weak         Yes\n",
              "9       Rain        Mild   Normal    Weak         Yes\n",
              "10     Sunny        Mild   Normal  Strong         Yes\n",
              "11  Overcast        Mild     High  Strong         Yes\n",
              "12  Overcast         Hot   Normal    Weak         Yes\n",
              "13      Rain        Mild     High  Strong          No"
            ]
          },
          "execution_count": 191,
          "metadata": {},
          "output_type": "execute_result"
        }
      ],
      "source": [
        "df"
      ]
    },
    {
      "cell_type": "code",
      "execution_count": null,
      "id": "014095a7",
      "metadata": {
        "id": "014095a7"
      },
      "outputs": [],
      "source": [
        "class NaiveBayes:\n",
        "\n",
        "    def createTables(self, df):\n",
        "\n",
        "        self.cols = list(df.columns[:-1])\n",
        "\n",
        "        yes_table = df[df[\"Play Tennis\"] == \"Yes\"]\n",
        "        no_table = df[df[\"Play Tennis\"] == \"No\"]\n",
        "\n",
        "        self.total = len(df)\n",
        "        self.yes_count = len(yes_table)\n",
        "        self.no_count = len(no_table)\n",
        "\n",
        "        no_output = pd.get_dummies(no_table).sum()\n",
        "        probabilities = no_output.values[:-1] / no_output.values[-1]\n",
        "        no_df = pd.DataFrame(probabilities).T\n",
        "        no_df.columns = no_output.index[:-1]\n",
        "\n",
        "        yes_output = pd.get_dummies(yes).sum()\n",
        "        probabilities = yes_output.values[:-1] / yes_output.values[-1]\n",
        "        yes_df = pd.DataFrame(probabilities).T\n",
        "        yes_df.columns = yes_output.index[:-1]\n",
        "\n",
        "        self.yes_df = yes_df\n",
        "        self.no_df = no_df\n",
        "\n",
        "    def calculateProbabilities(self, row):\n",
        "\n",
        "        no_total, yes_total = 1, 1\n",
        "\n",
        "        for colString, rowString in zip(self.cols, row):\n",
        "                label = f\"{colString}_{rowString}\"\n",
        "                try:\n",
        "                    no_total *= no_df[label]\n",
        "                except:\n",
        "                    no_total *= 0\n",
        "\n",
        "                try:\n",
        "                    yes_total *= yes_df[label]\n",
        "                except:\n",
        "                    yes_total *= 0\n",
        "\n",
        "        no_total *= self.no_count/self.total\n",
        "        yes_total *= self.yes_count/self.total\n",
        "\n",
        "#         print(f\"No: {no_total[0]}, Yes: {yes_total[0]}\")\n",
        "        output = \"Yes\" if yes_total[0] > no_total[0] else \"No\"\n",
        "\n",
        "        return output\n",
        "\n",
        "    def accuracyTable(self, df):\n",
        "        predict = [naive.calculateProbabilities(list(row[:-1])) for index, row in df.iterrows()]\n",
        "        truth = list(df.iloc[:,-1])\n",
        "        print(classification_report(truth, predict))\n",
        "        matrix = confusion_matrix(truth,predict)\n",
        "        graphMatrix = ConfusionMatrixDisplay(confusion_matrix = matrix)\n",
        "        graphMatrix.plot()\n",
        "        plt.show()\n",
        "\n",
        "\n"
      ]
    },
    {
      "cell_type": "code",
      "execution_count": null,
      "id": "6909b3f3",
      "metadata": {
        "id": "6909b3f3"
      },
      "outputs": [],
      "source": [
        "naive = NaiveBayes()"
      ]
    },
    {
      "cell_type": "code",
      "execution_count": null,
      "id": "8d780e13",
      "metadata": {
        "id": "8d780e13"
      },
      "outputs": [],
      "source": [
        "naive.createTables(df)"
      ]
    },
    {
      "cell_type": "code",
      "execution_count": null,
      "id": "d4b4dc85",
      "metadata": {
        "id": "d4b4dc85",
        "outputId": "72126c7d-d137-4a29-cb12-edc66daf2648"
      },
      "outputs": [
        {
          "data": {
            "text/html": [
              "<div>\n",
              "<style scoped>\n",
              "    .dataframe tbody tr th:only-of-type {\n",
              "        vertical-align: middle;\n",
              "    }\n",
              "\n",
              "    .dataframe tbody tr th {\n",
              "        vertical-align: top;\n",
              "    }\n",
              "\n",
              "    .dataframe thead th {\n",
              "        text-align: right;\n",
              "    }\n",
              "</style>\n",
              "<table border=\"1\" class=\"dataframe\">\n",
              "  <thead>\n",
              "    <tr style=\"text-align: right;\">\n",
              "      <th></th>\n",
              "      <th>Outlook_Overcast</th>\n",
              "      <th>Outlook_Rain</th>\n",
              "      <th>Outlook_Sunny</th>\n",
              "      <th>Temperature_Cool</th>\n",
              "      <th>Temperature_Hot</th>\n",
              "      <th>Temperature_Mild</th>\n",
              "      <th>Humidity_High</th>\n",
              "      <th>Humidity_Normal</th>\n",
              "      <th>Wind_Strong</th>\n",
              "      <th>Wind_Weak</th>\n",
              "    </tr>\n",
              "  </thead>\n",
              "  <tbody>\n",
              "    <tr>\n",
              "      <th>0</th>\n",
              "      <td>0.444444</td>\n",
              "      <td>0.333333</td>\n",
              "      <td>0.222222</td>\n",
              "      <td>0.333333</td>\n",
              "      <td>0.222222</td>\n",
              "      <td>0.444444</td>\n",
              "      <td>0.333333</td>\n",
              "      <td>0.666667</td>\n",
              "      <td>0.333333</td>\n",
              "      <td>0.666667</td>\n",
              "    </tr>\n",
              "  </tbody>\n",
              "</table>\n",
              "</div>"
            ],
            "text/plain": [
              "   Outlook_Overcast  Outlook_Rain  Outlook_Sunny  Temperature_Cool  \\\n",
              "0          0.444444      0.333333       0.222222          0.333333   \n",
              "\n",
              "   Temperature_Hot  Temperature_Mild  Humidity_High  Humidity_Normal  \\\n",
              "0         0.222222          0.444444       0.333333         0.666667   \n",
              "\n",
              "   Wind_Strong  Wind_Weak  \n",
              "0     0.333333   0.666667  "
            ]
          },
          "execution_count": 222,
          "metadata": {},
          "output_type": "execute_result"
        }
      ],
      "source": [
        "naive.yes_df"
      ]
    },
    {
      "cell_type": "code",
      "execution_count": null,
      "id": "df8f92a2",
      "metadata": {
        "id": "df8f92a2",
        "outputId": "5f77bcb1-7797-4b80-e324-e845369bbdcd"
      },
      "outputs": [
        {
          "data": {
            "text/html": [
              "<div>\n",
              "<style scoped>\n",
              "    .dataframe tbody tr th:only-of-type {\n",
              "        vertical-align: middle;\n",
              "    }\n",
              "\n",
              "    .dataframe tbody tr th {\n",
              "        vertical-align: top;\n",
              "    }\n",
              "\n",
              "    .dataframe thead th {\n",
              "        text-align: right;\n",
              "    }\n",
              "</style>\n",
              "<table border=\"1\" class=\"dataframe\">\n",
              "  <thead>\n",
              "    <tr style=\"text-align: right;\">\n",
              "      <th></th>\n",
              "      <th>Outlook_Rain</th>\n",
              "      <th>Outlook_Sunny</th>\n",
              "      <th>Temperature_Cool</th>\n",
              "      <th>Temperature_Hot</th>\n",
              "      <th>Temperature_Mild</th>\n",
              "      <th>Humidity_High</th>\n",
              "      <th>Humidity_Normal</th>\n",
              "      <th>Wind_Strong</th>\n",
              "      <th>Wind_Weak</th>\n",
              "    </tr>\n",
              "  </thead>\n",
              "  <tbody>\n",
              "    <tr>\n",
              "      <th>0</th>\n",
              "      <td>0.4</td>\n",
              "      <td>0.6</td>\n",
              "      <td>0.2</td>\n",
              "      <td>0.4</td>\n",
              "      <td>0.4</td>\n",
              "      <td>0.8</td>\n",
              "      <td>0.2</td>\n",
              "      <td>0.6</td>\n",
              "      <td>0.4</td>\n",
              "    </tr>\n",
              "  </tbody>\n",
              "</table>\n",
              "</div>"
            ],
            "text/plain": [
              "   Outlook_Rain  Outlook_Sunny  Temperature_Cool  Temperature_Hot  \\\n",
              "0           0.4            0.6               0.2              0.4   \n",
              "\n",
              "   Temperature_Mild  Humidity_High  Humidity_Normal  Wind_Strong  Wind_Weak  \n",
              "0               0.4            0.8              0.2          0.6        0.4  "
            ]
          },
          "execution_count": 223,
          "metadata": {},
          "output_type": "execute_result"
        }
      ],
      "source": [
        "naive.no_df"
      ]
    },
    {
      "cell_type": "code",
      "execution_count": null,
      "id": "ff5d1433",
      "metadata": {
        "id": "ff5d1433",
        "outputId": "8214829e-657c-4561-e881-1f6d7c7863a3"
      },
      "outputs": [
        {
          "data": {
            "text/plain": [
              "'Yes'"
            ]
          },
          "execution_count": 224,
          "metadata": {},
          "output_type": "execute_result"
        }
      ],
      "source": [
        "naive.calculateProbabilities([\"Overcast\", \"Hot\", \"High\", \"Weak\"])"
      ]
    },
    {
      "cell_type": "code",
      "execution_count": null,
      "id": "8c1434a2",
      "metadata": {
        "id": "8c1434a2",
        "outputId": "999713a7-3d51-4833-e169-1d91443f1552"
      },
      "outputs": [
        {
          "name": "stdout",
          "output_type": "stream",
          "text": [
            "              precision    recall  f1-score   support\n",
            "\n",
            "          No       1.00      0.80      0.89         5\n",
            "         Yes       0.90      1.00      0.95         9\n",
            "\n",
            "    accuracy                           0.93        14\n",
            "   macro avg       0.95      0.90      0.92        14\n",
            "weighted avg       0.94      0.93      0.93        14\n",
            "\n"
          ]
        },
        {
          "data": {
            "image/png": "[encoded data removed]",
            "text/plain": [
              "<Figure size 640x480 with 2 Axes>"
            ]
          },
          "metadata": {},
          "output_type": "display_data"
        }
      ],
      "source": [
        "naive.accuracyTable(df)"
      ]
    },
    {
      "cell_type": "code",
      "execution_count": null,
      "id": "d48bea21",
      "metadata": {
        "id": "d48bea21"
      },
      "outputs": [],
      "source": [
        "# You and your friend are standing in front of a magician and he has a basket with 6 white,\n",
        "# 4 red and 5 blue balls, each time the magician draws 3 balls and asks you to predict\n",
        "# what would be the color of the balls. If you predict correctly the magician loses the\n",
        "# game and you win. Since you have become a statistician after doing the ML assignment,\n",
        "# what should be the optimal color scheme of the balls that you would propose in order\n",
        "# to win the game?"
      ]
    },
    {
      "cell_type": "code",
      "execution_count": null,
      "id": "4bd57166",
      "metadata": {
        "id": "4bd57166"
      },
      "outputs": [],
      "source": [
        "[]"
      ]
    }
  ],
  "metadata": {
    "kernelspec": {
      "display_name": "Python 3 (ipykernel)",
      "language": "python",
      "name": "python3"
    },
    "language_info": {
      "codemirror_mode": {
        "name": "ipython",
        "version": 3
      },
      "file_extension": ".py",
      "mimetype": "text/x-python",
      "name": "python",
      "nbconvert_exporter": "python",
      "pygments_lexer": "ipython3",
      "version": "3.10.7"
    },
    "colab": {
      "provenance": []
    }
  },
  "nbformat": 4,
  "nbformat_minor": 5
}